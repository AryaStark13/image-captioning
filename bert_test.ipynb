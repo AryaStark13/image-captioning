{
 "cells": [
  {
   "cell_type": "code",
   "execution_count": 5,
   "metadata": {},
   "outputs": [],
   "source": [
    "import ast\n",
    "import warnings\n",
    "import re\n",
    "import torch\n",
    "import torch.nn as nn\n",
    "from torch import optim\n",
    "import torch.nn.functional as F\n",
    "import random\n",
    "from tqdm.notebook import tqdm_notebook\n",
    "from torchmetrics.functional import bleu_score\n",
    "warnings.filterwarnings(\"ignore\")\n",
    "\n",
    "SOS_token = 0\n",
    "EOS_token = 1\n",
    "\n",
    "device = torch.device(\"cuda\" if torch.cuda.is_available() else \"cpu\")"
   ]
  },
  {
   "cell_type": "code",
   "execution_count": 6,
   "metadata": {},
   "outputs": [],
   "source": [
    "def load_text_data():\n",
    "    with open(\"../../data/x.txt\", 'r') as f:\n",
    "        x_file = f.readlines()\n",
    "\n",
    "    with open(\"../../data/y.txt\", 'r') as f:\n",
    "        y_file = f.readlines()\n",
    "\n",
    "    x_list = []\n",
    "    y_list_temp = []\n",
    "\n",
    "    for x_val, y_val in zip(x_file, y_file):\n",
    "        x_list.append((x_val.split(\", \\n\")[0]))\n",
    "        y_list_temp.append((y_val.split(\" \\n\")[0]))\n",
    "\n",
    "    y_list = []\n",
    "    for y in y_list_temp:\n",
    "        x = y\n",
    "        x = ast.literal_eval(x)\n",
    "        y_list.append(x)\n",
    "\n",
    "    x_list_clean = []\n",
    "    y_list_clean = []\n",
    "\n",
    "    for x in x_list:\n",
    "        x = re.sub(r'[^\\w\\s]', '', x)\n",
    "        x = x.lower()\n",
    "        x_list_clean.append(x)\n",
    "\n",
    "    for y in y_list:\n",
    "        for i in range(len(y)):\n",
    "            y[i] = re.sub(r'[^\\w\\s]', '', y[i])\n",
    "            y[i] = y[i].lower()\n",
    "        y_list_clean.append(y)\n",
    "\n",
    "    return x_list_clean, y_list_clean\n",
    "\n",
    "x_text, y_text = load_text_data()"
   ]
  },
  {
   "cell_type": "code",
   "execution_count": null,
   "metadata": {},
   "outputs": [],
   "source": [
    "# 045 --> 45 --> 40"
   ]
  },
  {
   "cell_type": "code",
   "execution_count": 8,
   "metadata": {},
   "outputs": [],
   "source": [
    "x_text_new = []\n",
    "for x in x_text:\n",
    "    x_new = []\n",
    "    for word in x.split():\n",
    "        try:\n",
    "            num = int(word)\n",
    "        except:\n",
    "            x_new.append(word)\n",
    "            pass\n",
    "        else:\n",
    "            if len(word) == 2:\n",
    "                word = word + '0'\n",
    "            num = int(word)\n",
    "            round_num = round(num, -1)\n",
    "            x_new.append(str(round_num))\n",
    "    x_text_new.append(' '.join(x_new))\n",
    "\n",
    "del x_text\n",
    "x_text = x_text_new.copy()\n",
    "del x_text_new"
   ]
  }
 ],
 "metadata": {
  "kernelspec": {
   "display_name": "image_captioning_cleaned_env",
   "language": "python",
   "name": "python3"
  },
  "language_info": {
   "codemirror_mode": {
    "name": "ipython",
    "version": 3
   },
   "file_extension": ".py",
   "mimetype": "text/x-python",
   "name": "python",
   "nbconvert_exporter": "python",
   "pygments_lexer": "ipython3",
   "version": "3.10.5"
  },
  "orig_nbformat": 4
 },
 "nbformat": 4,
 "nbformat_minor": 2
}
